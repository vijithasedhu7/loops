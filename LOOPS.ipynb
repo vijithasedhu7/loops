{
 "cells": [
  {
   "cell_type": "markdown",
   "id": "2fc16420",
   "metadata": {},
   "source": [
    "# LOOPS"
   ]
  },
  {
   "cell_type": "code",
   "execution_count": null,
   "id": "efd2126a",
   "metadata": {},
   "outputs": [],
   "source": [
    "for <variable> in <sequence>:\n",
    "    <statement>"
   ]
  },
  {
   "cell_type": "code",
   "execution_count": 6,
   "id": "4529fbd0",
   "metadata": {},
   "outputs": [],
   "source": [
    "lis=[1,2,3,4,5,6]"
   ]
  },
  {
   "cell_type": "code",
   "execution_count": 7,
   "id": "df3e8d9a",
   "metadata": {},
   "outputs": [
    {
     "name": "stdout",
     "output_type": "stream",
     "text": [
      "the step is 1\n",
      "the step is 2\n",
      "the step is 3\n",
      "the step is 4\n",
      "the step is 5\n",
      "the step is 6\n"
     ]
    }
   ],
   "source": [
    "for step in lis:\n",
    "         print(f\"the step is {step}\")\n",
    "    "
   ]
  },
  {
   "cell_type": "code",
   "execution_count": 13,
   "id": "eed7d075",
   "metadata": {},
   "outputs": [],
   "source": [
    "products=[1,2,3,4,5]\n"
   ]
  },
  {
   "cell_type": "code",
   "execution_count": 16,
   "id": "7216145a",
   "metadata": {},
   "outputs": [
    {
     "ename": "TypeError",
     "evalue": "'int' object is not iterable",
     "output_type": "error",
     "traceback": [
      "\u001b[1;31m---------------------------------------------------------------------------\u001b[0m",
      "\u001b[1;31mTypeError\u001b[0m                                 Traceback (most recent call last)",
      "Cell \u001b[1;32mIn[16], line 1\u001b[0m\n\u001b[1;32m----> 1\u001b[0m \u001b[38;5;28;01mfor\u001b[39;00m step \u001b[38;5;129;01min\u001b[39;00m products:\n\u001b[0;32m      2\u001b[0m     \u001b[38;5;28minput\u001b[39m(\u001b[38;5;124m\"\u001b[39m\u001b[38;5;124menter your product name:\u001b[39m\u001b[38;5;124m\"\u001b[39m)\n",
      "\u001b[1;31mTypeError\u001b[0m: 'int' object is not iterable"
     ]
    }
   ],
   "source": [
    "for step in products:\n",
    "    input(\"enter your product name:\")"
   ]
  },
  {
   "cell_type": "code",
   "execution_count": 17,
   "id": "b66c6e5e",
   "metadata": {},
   "outputs": [
    {
     "name": "stdout",
     "output_type": "stream",
     "text": [
      "enter the number of items:3\n",
      "enter the product name:chocoate\n",
      "enter the product price:50\n",
      "total price:50\n",
      "enter the product name:chips\n",
      "enter the product price:10\n",
      "total price:60\n",
      "enter the product name:juice\n",
      "enter the product price:55\n",
      "total price:115\n"
     ]
    }
   ],
   "source": [
    "sum=0\n",
    "market=int(input(\"enter the number of items:\"))\n",
    "for product in range(0,market):\n",
    "    a=(input(\"enter the product name:\"))\n",
    "    b=int(input(\"enter the product price:\"))\n",
    "    sum+=b\n",
    "    print(f\"total price:{sum}\")"
   ]
  },
  {
   "cell_type": "code",
   "execution_count": 19,
   "id": "5231ef0f",
   "metadata": {},
   "outputs": [
    {
     "name": "stdout",
     "output_type": "stream",
     "text": [
      "enter the number of items purchased:2\n",
      "enter product name:juice\n",
      "enter product name:popcorn\n"
     ]
    }
   ],
   "source": [
    "prod_name=[]\n",
    "total_item=int(input(\"enter the number of items purchased:\"))\n",
    "for item in range(0,total_item):\n",
    "    prod_name.append(input(\"enter product name:\"))"
   ]
  },
  {
   "cell_type": "markdown",
   "id": "89ec7bbb",
   "metadata": {},
   "source": [
    "# WHILE LOOP"
   ]
  },
  {
   "cell_type": "code",
   "execution_count": null,
   "id": "34ab0831",
   "metadata": {},
   "outputs": [],
   "source": [
    "while <condition>:\n",
    "    <statement>\n",
    "count    "
   ]
  }
 ],
 "metadata": {
  "kernelspec": {
   "display_name": "Python 3 (ipykernel)",
   "language": "python",
   "name": "python3"
  },
  "language_info": {
   "codemirror_mode": {
    "name": "ipython",
    "version": 3
   },
   "file_extension": ".py",
   "mimetype": "text/x-python",
   "name": "python",
   "nbconvert_exporter": "python",
   "pygments_lexer": "ipython3",
   "version": "3.9.17"
  }
 },
 "nbformat": 4,
 "nbformat_minor": 5
}
